{
 "cells": [
  {
   "cell_type": "markdown",
   "metadata": {},
   "source": [
    "### Text Analysis"
   ]
  },
  {
   "cell_type": "code",
   "execution_count": 1,
   "metadata": {},
   "outputs": [],
   "source": [
    "# import library\n",
    "\n",
    "import pandas as pd\n",
    "from nltk.tokenize import word_tokenize\n",
    "import matplotlib.pyplot as plt\n",
    "import numpy as np\n",
    "from nltk.probability import FreqDist\n",
    "import nltk"
   ]
  },
  {
   "cell_type": "code",
   "execution_count": 2,
   "metadata": {},
   "outputs": [
    {
     "name": "stdout",
     "output_type": "stream",
     "text": [
      "0      genoa vs ac mil shevchenko ingin buat mantan k...\n",
      "1               odha di depok masih dapat stigma negatif\n",
      "2      pemprov jakarta bentuk tim khusus awas alat ma...\n",
      "3                   tonton lokal piala aff acuh atur ini\n",
      "4      pada akhir pekan tumpang di bandara soekarnoha...\n",
      "                             ...                        \n",
      "195    perintah bakal kembali terbit skb menteri jela...\n",
      "196    densus sita senapan m dan peluru dari duga ter...\n",
      "197    foto viral pasutri naik motor hingga menara ei...\n",
      "198    momen indro satu lagi warkop dki telah kasino ...\n",
      "199    pil covid molnupiravir msd akhir kantong izin fda\n",
      "Name: cleaned title, Length: 200, dtype: object\n"
     ]
    }
   ],
   "source": [
    "new_df = pd.read_csv('kompas_20211201_clean.csv')\n",
    "judul_clean = new_df['cleaned title']\n",
    "print(judul_clean)"
   ]
  },
  {
   "cell_type": "code",
   "execution_count": 3,
   "metadata": {},
   "outputs": [
    {
     "data": {
      "image/png": "[encoded data removed]",
      "text/plain": [
       "<Figure size 432x288 with 1 Axes>"
      ]
     },
     "metadata": {
      "needs_background": "light"
     },
     "output_type": "display_data"
    }
   ],
   "source": [
    "bin_range = np.arange(0, 120, 10)\n",
    "judul_clean.str.len().hist(bins=bin_range)\n",
    "plt.show()"
   ]
  },
  {
   "cell_type": "code",
   "execution_count": 4,
   "metadata": {},
   "outputs": [
    {
     "data": {
      "image/png": "[encoded data removed]",
      "text/plain": [
       "<Figure size 432x288 with 1 Axes>"
      ]
     },
     "metadata": {
      "needs_background": "light"
     },
     "output_type": "display_data"
    }
   ],
   "source": [
    "bin_range = np.arange(0, 80)\n",
    "judul_clean.str.split().map(lambda x: len(x)).hist(bins=bin_range)\n",
    "plt.show()"
   ]
  },
  {
   "cell_type": "code",
   "execution_count": 5,
   "metadata": {},
   "outputs": [
    {
     "data": {
      "image/png": "[encoded data removed]",
      "text/plain": [
       "<Figure size 432x288 with 1 Axes>"
      ]
     },
     "metadata": {
      "needs_background": "light"
     },
     "output_type": "display_data"
    }
   ],
   "source": [
    "judul_clean.str.split().apply(lambda x : [len(i) for i in x]).map(lambda x: np.mean(x)).hist()\n",
    "plt.show()"
   ]
  },
  {
   "cell_type": "code",
   "execution_count": 6,
   "metadata": {},
   "outputs": [],
   "source": [
    "# Pertama kita lakukan tokenization pada dataset kita\n",
    "\n",
    "judul_clean = judul_clean.apply(lambda x: word_tokenize(str(x)))"
   ]
  },
  {
   "cell_type": "code",
   "execution_count": 7,
   "metadata": {},
   "outputs": [],
   "source": [
    "# # import library\n",
    "\n",
    "# import pandas as pd\n",
    "# import re, string\n",
    "# from nltk.tokenize import word_tokenize\n",
    "# from Sastrawi.StopWordRemover.StopWordRemoverFactory import StopWordRemoverFactory\n",
    "# from Sastrawi.Stemmer.StemmerFactory import StemmerFactory\n",
    "\n",
    "# # Menghilangkan stopwords\n",
    "\n",
    "# def remove_stopwords(text:str):\n",
    "#     stopwords_engine = StopWordRemoverFactory()\n",
    "#     stopwords = stopwords_engine.get_stop_words()\n",
    "#     more_stopwords = ['di', 'dan','yang', 'ini', 'untuk', 'ke'] # menambahkan stopwords\n",
    "    \n",
    "#     result = []\n",
    "#     for word in text:\n",
    "#         if word not in stopwords + more_stopwords:\n",
    "#         # if word not in stopwords:\n",
    "#             result.append(word)\n",
    "#     return result "
   ]
  },
  {
   "cell_type": "code",
   "execution_count": 8,
   "metadata": {},
   "outputs": [],
   "source": [
    "# new_judul_clean = remove_stopwords(judul_clean)\n",
    "\n",
    "# # for i in judul_clean:\n",
    "# #     i = remove_stopwords(judul_clean)\n",
    "# #     new_judul_clean.append(i)"
   ]
  },
  {
   "cell_type": "code",
   "execution_count": 9,
   "metadata": {},
   "outputs": [
    {
     "data": {
      "text/plain": [
       "0      [genoa, vs, ac, mil, shevchenko, ingin, buat, ...\n",
       "1       [odha, di, depok, masih, dapat, stigma, negatif]\n",
       "2      [pemprov, jakarta, bentuk, tim, khusus, awas, ...\n",
       "3           [tonton, lokal, piala, aff, acuh, atur, ini]\n",
       "4      [pada, akhir, pekan, tumpang, di, bandara, soe...\n",
       "                             ...                        \n",
       "195    [perintah, bakal, kembali, terbit, skb, menter...\n",
       "196    [densus, sita, senapan, m, dan, peluru, dari, ...\n",
       "197    [foto, viral, pasutri, naik, motor, hingga, me...\n",
       "198    [momen, indro, satu, lagi, warkop, dki, telah,...\n",
       "199    [pil, covid, molnupiravir, msd, akhir, kantong...\n",
       "Name: cleaned title, Length: 200, dtype: object"
      ]
     },
     "execution_count": 9,
     "metadata": {},
     "output_type": "execute_result"
    }
   ],
   "source": [
    "judul_clean"
   ]
  },
  {
   "cell_type": "code",
   "execution_count": 10,
   "metadata": {},
   "outputs": [],
   "source": [
    "# masukkan pada semua token tersebut pada satu list yang sama\n",
    "\n",
    "list_judul = [judul for judul in judul_clean for judul in judul]"
   ]
  },
  {
   "cell_type": "code",
   "execution_count": 11,
   "metadata": {},
   "outputs": [
    {
     "name": "stdout",
     "output_type": "stream",
     "text": [
      "<FreqDist with 1091 samples and 1932 outcomes>\n"
     ]
    }
   ],
   "source": [
    "fqdist = FreqDist(list_judul)\n",
    "print(fqdist)"
   ]
  },
  {
   "cell_type": "code",
   "execution_count": 12,
   "metadata": {},
   "outputs": [
    {
     "name": "stdout",
     "output_type": "stream",
     "text": [
      "[('di', 60), ('dan', 34), ('ini', 17), ('yang', 12), ('untuk', 12), ('tahun', 11), ('jakarta', 10), ('covid', 10), ('siap', 10), ('lagu', 10), ('baru', 10), ('ke', 10), ('indonesia', 9), ('polisi', 9), ('warga', 9), ('dari', 9), ('lirik', 9), ('tak', 8), ('jadi', 8), ('dengan', 8)]\n"
     ]
    }
   ],
   "source": [
    "# Untuk mengetahui kata dan jumlah dari masing-masing kata kita bisa menggunakan.\n",
    "\n",
    "most_common_word = fqdist.most_common(20)\n",
    "print(most_common_word)"
   ]
  },
  {
   "cell_type": "code",
   "execution_count": 13,
   "metadata": {},
   "outputs": [
    {
     "data": {
      "image/png": "[encoded data removed]",
      "text/plain": [
       "<Figure size 432x288 with 1 Axes>"
      ]
     },
     "metadata": {
      "needs_background": "light"
     },
     "output_type": "display_data"
    }
   ],
   "source": [
    "# Visualisasi\n",
    "\n",
    "fqdist.plot(20,cumulative=False)\n",
    "plt.show()"
   ]
  },
  {
   "cell_type": "code",
   "execution_count": 14,
   "metadata": {},
   "outputs": [],
   "source": [
    "result = pd.Series(nltk.ngrams(list_judul, 10)).value_counts()[:20]"
   ]
  },
  {
   "cell_type": "code",
   "execution_count": 15,
   "metadata": {},
   "outputs": [
    {
     "name": "stdout",
     "output_type": "stream",
     "text": [
      "(genoa, vs, ac, mil, shevchenko, ingin, buat, mantan, klub, sulit)                   1\n",
      "(cilegon, pemkot, siap, jalur, evakuasi, warga, waspada, siklon, tropis, teratai)    1\n",
      "(firli, bahuri, harap, tak, ada, lagi, korupsi, kait, izin, investasi)               1\n",
      "(transportasi, firli, bahuri, harap, tak, ada, lagi, korupsi, kait, izin)            1\n",
      "(sektor, transportasi, firli, bahuri, harap, tak, ada, lagi, korupsi, kait)          1\n",
      "(di, sektor, transportasi, firli, bahuri, harap, tak, ada, lagi, korupsi)            1\n",
      "(batas, di, sektor, transportasi, firli, bahuri, harap, tak, ada, lagi)              1\n",
      "(skenario, batas, di, sektor, transportasi, firli, bahuri, harap, tak, ada)          1\n",
      "(ikut, skenario, batas, di, sektor, transportasi, firli, bahuri, harap, tak)         1\n",
      "(libur, ikut, skenario, batas, di, sektor, transportasi, firli, bahuri, harap)       1\n",
      "(siap, libur, ikut, skenario, batas, di, sektor, transportasi, firli, bahuri)        1\n",
      "(soot, siap, libur, ikut, skenario, batas, di, sektor, transportasi, firli)          1\n",
      "(wilbur, soot, siap, libur, ikut, skenario, batas, di, sektor, transportasi)         1\n",
      "(memories, wilbur, soot, siap, libur, ikut, skenario, batas, di, sektor)             1\n",
      "(for, memories, wilbur, soot, siap, libur, ikut, skenario, batas, di)                1\n",
      "(lagu, for, memories, wilbur, soot, siap, libur, ikut, skenario, batas)              1\n",
      "(chord, lagu, for, memories, wilbur, soot, siap, libur, ikut, skenario)              1\n",
      "(dan, chord, lagu, for, memories, wilbur, soot, siap, libur, ikut)                   1\n",
      "(lirik, dan, chord, lagu, for, memories, wilbur, soot, siap, libur)                  1\n",
      "(bengkak, lirik, dan, chord, lagu, for, memories, wilbur, soot, siap)                1\n",
      "dtype: int64\n"
     ]
    }
   ],
   "source": [
    "print (result)"
   ]
  }
 ],
 "metadata": {
  "interpreter": {
   "hash": "3454bc21589f5bc48f743d0fde9bff51384294738c6356029fae86a372931a9f"
  },
  "kernelspec": {
   "display_name": "Python 3.9.4 64-bit",
   "language": "python",
   "name": "python3"
  },
  "language_info": {
   "codemirror_mode": {
    "name": "ipython",
    "version": 3
   },
   "file_extension": ".py",
   "mimetype": "text/x-python",
   "name": "python",
   "nbconvert_exporter": "python",
   "pygments_lexer": "ipython3",
   "version": "3.9.4"
  },
  "orig_nbformat": 4
 },
 "nbformat": 4,
 "nbformat_minor": 2
}

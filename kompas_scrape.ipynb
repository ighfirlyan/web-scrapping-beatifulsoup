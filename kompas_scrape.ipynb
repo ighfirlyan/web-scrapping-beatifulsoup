{
 "cells": [
  {
   "cell_type": "code",
   "execution_count": 1,
   "metadata": {},
   "outputs": [],
   "source": [
    "#import semua yang kita butuhkan\n",
    "from bs4 import BeautifulSoup as bs\n",
    "from urllib.request import urlopen, Request\n",
    "from mysql_database import MySqlDB\n",
    "import pandas as pd"
   ]
  },
  {
   "cell_type": "code",
   "execution_count": 2,
   "metadata": {},
   "outputs": [],
   "source": [
    "#siapkan semua parameter\n",
    "user_agent = \"Mozilla/5.0 (Windows NT 10.0; Win64; x64) AppleWebKit/537.36 (KHTML, like Gecko) Chrome/99.0.4844.82 Safari/537.36\"\n",
    "headers = {\n",
    "    'User-Agent': user_agent\n",
    "}\n",
    "\n",
    "alamat = \"https://www.presidenri.go.id/\""
   ]
  },
  {
   "cell_type": "code",
   "execution_count": 3,
   "metadata": {},
   "outputs": [],
   "source": [
    "#request- response\n",
    "data_request = Request(alamat, headers=headers)\n",
    "response = urlopen(data_request)"
   ]
  },
  {
   "cell_type": "code",
   "execution_count": 4,
   "metadata": {},
   "outputs": [],
   "source": [
    "#masukkan dalam objek beautifulsoup\n",
    "soup = bs(response, \"html.parser\")"
   ]
  },
  {
   "cell_type": "code",
   "execution_count": 5,
   "metadata": {},
   "outputs": [],
   "source": [
    "#div, sidebar-latest-photo \n",
    "articles = soup.find(\"div\", {\"class\":\"sidebar-latest-photo\"})"
   ]
  },
  {
   "cell_type": "code",
   "execution_count": 6,
   "metadata": {},
   "outputs": [],
   "source": [
    "titles = articles.find_all(\"h3\", {\"class\":\"is-sr-only\"})\n"
   ]
  },
  {
   "cell_type": "code",
   "execution_count": 7,
   "metadata": {},
   "outputs": [
    {
     "name": "stdout",
     "output_type": "stream",
     "text": [
      "[<h3 class=\"is-sr-only\">Presiden Jokowi Hadiri Silaturahmi Nasional Asosiasi Pemerintah Desa Seluruh Indonesia (Apdesi) Tahun 2022</h3>, <h3 class=\"is-sr-only\">Bertemu Presiden, Kepala Otorita IKN Jelaskan Tiga Aspek Penting Pembangunan IKN</h3>, <h3 class=\"is-sr-only\">Presiden Dorong Peningkatan Pelaku UMKM dalam Ekosistem Digital</h3>, <h3 class=\"is-sr-only\">Presiden Jokowi Terima Delegasi Islamic Development Bank</h3>, <h3 class=\"is-sr-only\">Presiden Jokowi Jenguk Buya Syafii di Sleman</h3>]\n"
     ]
    }
   ],
   "source": [
    "print(titles)"
   ]
  },
  {
   "cell_type": "code",
   "execution_count": 8,
   "metadata": {},
   "outputs": [],
   "source": [
    "list_title = [title.get_text().rstrip() for title in titles]"
   ]
  },
  {
   "cell_type": "code",
   "execution_count": 9,
   "metadata": {},
   "outputs": [
    {
     "name": "stdout",
     "output_type": "stream",
     "text": [
      "['Presiden Jokowi Hadiri Silaturahmi Nasional Asosiasi Pemerintah Desa Seluruh Indonesia (Apdesi) Tahun 2022', 'Bertemu Presiden, Kepala Otorita IKN Jelaskan Tiga Aspek Penting Pembangunan IKN', 'Presiden Dorong Peningkatan Pelaku UMKM dalam Ekosistem Digital', 'Presiden Jokowi Terima Delegasi Islamic Development Bank', 'Presiden Jokowi Jenguk Buya Syafii di Sleman']\n"
     ]
    }
   ],
   "source": [
    "print(list_title)"
   ]
  },
  {
   "cell_type": "code",
   "execution_count": 10,
   "metadata": {},
   "outputs": [
    {
     "name": "stdout",
     "output_type": "stream",
     "text": [
      "Koneksi Gagal : 2003 (HY000): Can't connect to MySQL server on 'localhost:3306' (10061)\n",
      "Penambahan Data Gagal : 'MySqlDB' object has no attribute 'db'\n"
     ]
    },
    {
     "ename": "AttributeError",
     "evalue": "'MySqlDB' object has no attribute 'db'",
     "output_type": "error",
     "traceback": [
      "\u001b[1;31m---------------------------------------------------------------------------\u001b[0m",
      "\u001b[1;31mAttributeError\u001b[0m                            Traceback (most recent call last)",
      "\u001b[1;32md:\\Digital School\\web_scrapping\\mysql_database.py\u001b[0m in \u001b[0;36minsert_titles\u001b[1;34m(self, titles)\u001b[0m\n\u001b[0;32m     69\u001b[0m         \u001b[1;32mtry\u001b[0m\u001b[1;33m:\u001b[0m\u001b[1;33m\u001b[0m\u001b[1;33m\u001b[0m\u001b[0m\n\u001b[1;32m---> 70\u001b[1;33m             \u001b[0mcursor_db\u001b[0m \u001b[1;33m=\u001b[0m \u001b[0mself\u001b[0m\u001b[1;33m.\u001b[0m\u001b[0mdb\u001b[0m\u001b[1;33m.\u001b[0m\u001b[0mcursor\u001b[0m\u001b[1;33m(\u001b[0m\u001b[1;33m)\u001b[0m\u001b[1;33m\u001b[0m\u001b[1;33m\u001b[0m\u001b[0m\n\u001b[0m\u001b[0;32m     71\u001b[0m             \u001b[1;32mfor\u001b[0m \u001b[0mtitle\u001b[0m \u001b[1;32min\u001b[0m \u001b[0mtitles\u001b[0m\u001b[1;33m:\u001b[0m\u001b[1;33m\u001b[0m\u001b[1;33m\u001b[0m\u001b[0m\n",
      "\u001b[1;31mAttributeError\u001b[0m: 'MySqlDB' object has no attribute 'db'",
      "\nDuring handling of the above exception, another exception occurred:\n",
      "\u001b[1;31mAttributeError\u001b[0m                            Traceback (most recent call last)",
      "\u001b[1;32mC:\\Users\\IGHFIR~1\\AppData\\Local\\Temp/ipykernel_25864/3709659918.py\u001b[0m in \u001b[0;36m<module>\u001b[1;34m\u001b[0m\n\u001b[0;32m      2\u001b[0m \u001b[0mdb\u001b[0m \u001b[1;33m=\u001b[0m \u001b[0mMySqlDB\u001b[0m\u001b[1;33m(\u001b[0m\u001b[1;33m)\u001b[0m\u001b[1;33m\u001b[0m\u001b[1;33m\u001b[0m\u001b[0m\n\u001b[0;32m      3\u001b[0m \u001b[0mdb\u001b[0m\u001b[1;33m.\u001b[0m\u001b[0mopen_connection\u001b[0m\u001b[1;33m(\u001b[0m\u001b[1;33m)\u001b[0m\u001b[1;33m\u001b[0m\u001b[1;33m\u001b[0m\u001b[0m\n\u001b[1;32m----> 4\u001b[1;33m \u001b[0mdb\u001b[0m\u001b[1;33m.\u001b[0m\u001b[0minsert_titles\u001b[0m\u001b[1;33m(\u001b[0m\u001b[0mlist_title\u001b[0m\u001b[1;33m)\u001b[0m\u001b[1;33m\u001b[0m\u001b[1;33m\u001b[0m\u001b[0m\n\u001b[0m",
      "\u001b[1;32md:\\Digital School\\web_scrapping\\mysql_database.py\u001b[0m in \u001b[0;36minsert_titles\u001b[1;34m(self, titles)\u001b[0m\n\u001b[0;32m     81\u001b[0m         \u001b[1;32mexcept\u001b[0m \u001b[0mException\u001b[0m \u001b[1;32mas\u001b[0m \u001b[0me\u001b[0m\u001b[1;33m:\u001b[0m\u001b[1;33m\u001b[0m\u001b[1;33m\u001b[0m\u001b[0m\n\u001b[0;32m     82\u001b[0m             \u001b[0mprint\u001b[0m\u001b[1;33m(\u001b[0m\u001b[1;34mf\"Penambahan Data Gagal : {e}\"\u001b[0m\u001b[1;33m)\u001b[0m\u001b[1;33m\u001b[0m\u001b[1;33m\u001b[0m\u001b[0m\n\u001b[1;32m---> 83\u001b[1;33m             \u001b[0mself\u001b[0m\u001b[1;33m.\u001b[0m\u001b[0mdb\u001b[0m\u001b[1;33m.\u001b[0m\u001b[0mrollback\u001b[0m\u001b[1;33m(\u001b[0m\u001b[1;33m)\u001b[0m\u001b[1;33m\u001b[0m\u001b[1;33m\u001b[0m\u001b[0m\n\u001b[0m\u001b[0;32m     84\u001b[0m \u001b[1;33m\u001b[0m\u001b[0m\n\u001b[0;32m     85\u001b[0m     \u001b[1;32mdef\u001b[0m \u001b[0mclose_connection\u001b[0m\u001b[1;33m(\u001b[0m\u001b[0mself\u001b[0m\u001b[1;33m)\u001b[0m\u001b[1;33m:\u001b[0m\u001b[1;33m\u001b[0m\u001b[1;33m\u001b[0m\u001b[0m\n",
      "\u001b[1;31mAttributeError\u001b[0m: 'MySqlDB' object has no attribute 'db'"
     ]
    }
   ],
   "source": [
    "#menyimpan dalam sql\n",
    "db = MySqlDB()\n",
    "db.open_connection()\n",
    "db.insert_titles(list_title)"
   ]
  },
  {
   "cell_type": "code",
   "execution_count": null,
   "metadata": {},
   "outputs": [
    {
     "name": "stdout",
     "output_type": "stream",
     "text": [
      "(1, 'Kunjungan Kerja Presiden RI ke Provinsi Bali')\n",
      "(2, 'Presiden Jokowi Lanjutkan Kunjungan Kerja ke Kabupaten Belu')\n",
      "(3, 'Dari Kota Kupang, Presiden Jokowi Bertolak Menuju Kabupaten Timor Tengah Selatan')\n",
      "(4, 'Presiden Joko Widodo Resmikan Penataan Kawasan Kota Kupang')\n",
      "(5, 'Bertolak ke NTT, Presiden Akan Tinjau Program Percepatan Penurunan Stunting')\n",
      "(6, 'Rusia: Fase Pertama Operasi Militer di Ukraina Tuntas, Giliran Fokus Bebaskan Donbas')\n",
      "(7, 'Rekap Hasil Swiss Open 2022: 5 Wakil Indonesia ke Semifinal, Potensi 2 Duel Merah Putih di Final')\n",
      "(8, 'Target Penonton Langsung Formula E Menyusut, dari 50.000 Jadi 10.000')\n",
      "(9, 'Potret Sirkuit Formula E di Lokasi Berlumpur Sebelum dan Sesudah Dilakukan Pembangunan')\n",
      "(10, '66 Siswa Jatuh dari Jembatan Saat Menunggu Difoto dengan Drone, Kades: Jika 1 Orang Beratnya 50 Kg, Sudah 3 Ton')\n",
      "(11, 'Link Live Streaming Argentina Vs Venezuela, Kickoff 06.30 WIB')\n",
      "(12, 'Pengumuman! Pendaftaran Sayembara Bangunan IKN Nusantara Dibuka Mulai 28 Maret')\n",
      "(13, 'Kisah Pak Guru Ribut, Jelaskan soal Kaum Sodom ke Murid SD, Videonya Viral dan Dipanggil Dinas')\n",
      "(14, 'Klasemen Liga 1: Bali United Juara, Persebaya ke Zona Piala AFC')\n",
      "(15, 'Warga yang Belum Vaksinasi Booster Masih Boleh Mudik Lebaran, Asalkan…')\n",
      "(16, 'Presiden Jokowi Jenguk Buya Syafii di Sleman')\n",
      "(17, 'Kunjungan Kerja Presiden RI ke Provinsi Bali')\n",
      "(18, 'Presiden Jokowi Lanjutkan Kunjungan Kerja ke Kabupaten Belu')\n",
      "(19, 'Dari Kota Kupang, Presiden Jokowi Bertolak Menuju Kabupaten Timor Tengah Selatan')\n",
      "(20, 'Presiden Joko Widodo Resmikan Penataan Kawasan Kota Kupang')\n"
     ]
    }
   ],
   "source": [
    "#melihat data\n",
    "db.search_all()"
   ]
  },
  {
   "cell_type": "code",
   "execution_count": null,
   "metadata": {},
   "outputs": [],
   "source": [
    "#tutup koneksi\n",
    "db.close_connection()"
   ]
  },
  {
   "cell_type": "code",
   "execution_count": null,
   "metadata": {},
   "outputs": [],
   "source": [
    "df = pd.DataFrame(list_title, columns=['title'])"
   ]
  },
  {
   "cell_type": "code",
   "execution_count": null,
   "metadata": {},
   "outputs": [
    {
     "data": {
      "text/html": [
       "<div>\n",
       "<style scoped>\n",
       "    .dataframe tbody tr th:only-of-type {\n",
       "        vertical-align: middle;\n",
       "    }\n",
       "\n",
       "    .dataframe tbody tr th {\n",
       "        vertical-align: top;\n",
       "    }\n",
       "\n",
       "    .dataframe thead th {\n",
       "        text-align: right;\n",
       "    }\n",
       "</style>\n",
       "<table border=\"1\" class=\"dataframe\">\n",
       "  <thead>\n",
       "    <tr style=\"text-align: right;\">\n",
       "      <th></th>\n",
       "      <th>title</th>\n",
       "    </tr>\n",
       "  </thead>\n",
       "  <tbody>\n",
       "    <tr>\n",
       "      <th>0</th>\n",
       "      <td>Presiden Jokowi Jenguk Buya Syafii di Sleman</td>\n",
       "    </tr>\n",
       "    <tr>\n",
       "      <th>1</th>\n",
       "      <td>Kunjungan Kerja Presiden RI ke Provinsi Bali</td>\n",
       "    </tr>\n",
       "    <tr>\n",
       "      <th>2</th>\n",
       "      <td>Presiden Jokowi Lanjutkan Kunjungan Kerja ke K...</td>\n",
       "    </tr>\n",
       "    <tr>\n",
       "      <th>3</th>\n",
       "      <td>Dari Kota Kupang, Presiden Jokowi Bertolak Men...</td>\n",
       "    </tr>\n",
       "    <tr>\n",
       "      <th>4</th>\n",
       "      <td>Presiden Joko Widodo Resmikan Penataan Kawasan...</td>\n",
       "    </tr>\n",
       "  </tbody>\n",
       "</table>\n",
       "</div>"
      ],
      "text/plain": [
       "                                               title\n",
       "0       Presiden Jokowi Jenguk Buya Syafii di Sleman\n",
       "1       Kunjungan Kerja Presiden RI ke Provinsi Bali\n",
       "2  Presiden Jokowi Lanjutkan Kunjungan Kerja ke K...\n",
       "3  Dari Kota Kupang, Presiden Jokowi Bertolak Men...\n",
       "4  Presiden Joko Widodo Resmikan Penataan Kawasan..."
      ]
     },
     "execution_count": 28,
     "metadata": {},
     "output_type": "execute_result"
    }
   ],
   "source": [
    "df"
   ]
  },
  {
   "cell_type": "code",
   "execution_count": null,
   "metadata": {},
   "outputs": [],
   "source": [
    "df.to_csv(\"scrape_presiden.csv\", index=False)"
   ]
  }
 ],
 "metadata": {
  "interpreter": {
   "hash": "b09faad8010c53ac42204f4e48cb8cd6a05a747dc338ce78a1104621a990696c"
  },
  "kernelspec": {
   "display_name": "Python 3.8.6 ('ms_python')",
   "language": "python",
   "name": "python3"
  },
  "language_info": {
   "codemirror_mode": {
    "name": "ipython",
    "version": 3
   },
   "file_extension": ".py",
   "mimetype": "text/x-python",
   "name": "python",
   "nbconvert_exporter": "python",
   "pygments_lexer": "ipython3",
   "version": "3.9.4"
  },
  "orig_nbformat": 4
 },
 "nbformat": 4,
 "nbformat_minor": 2
}

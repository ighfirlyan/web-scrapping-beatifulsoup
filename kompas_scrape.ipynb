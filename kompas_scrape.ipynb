{
 "cells": [
  {
   "cell_type": "code",
   "execution_count": 11,
   "metadata": {},
   "outputs": [],
   "source": [
    "#import semua yang kita butuhkan\n",
    "from bs4 import BeautifulSoup as bs\n",
    "from urllib.request import urlopen, Request\n",
    "from mysql_database import MySqlDB\n",
    "import pandas as pd"
   ]
  },
  {
   "cell_type": "code",
   "execution_count": 12,
   "metadata": {},
   "outputs": [],
   "source": [
    "#siapkan semua parameter\n",
    "user_agent = \"Mozilla/5.0 (Windows NT 10.0; Win64; x64) AppleWebKit/537.36 (KHTML, like Gecko) Chrome/99.0.4844.82 Safari/537.36\"\n",
    "headers = {\n",
    "    'User-Agent': user_agent\n",
    "}\n",
    "\n",
    "alamat = \"https://www.presidenri.go.id/\""
   ]
  },
  {
   "cell_type": "code",
   "execution_count": 13,
   "metadata": {},
   "outputs": [],
   "source": [
    "#request- response\n",
    "data_request = Request(alamat, headers=headers)\n",
    "response = urlopen(data_request)"
   ]
  },
  {
   "cell_type": "code",
   "execution_count": 14,
   "metadata": {},
   "outputs": [],
   "source": [
    "#masukkan dalam objek beautifulsoup\n",
    "soup = bs(response, \"html.parser\")"
   ]
  },
  {
   "cell_type": "code",
   "execution_count": 15,
   "metadata": {},
   "outputs": [],
   "source": [
    "#div, sidebar-latest-photo \n",
    "articles = soup.find(\"div\", {\"class\":\"sidebar-latest-photo\"})"
   ]
  },
  {
   "cell_type": "code",
   "execution_count": 16,
   "metadata": {},
   "outputs": [],
   "source": [
    "titles = articles.find_all(\"h3\", {\"class\":\"is-sr-only\"})\n"
   ]
  },
  {
   "cell_type": "code",
   "execution_count": 17,
   "metadata": {},
   "outputs": [
    {
     "name": "stdout",
     "output_type": "stream",
     "text": [
      "[<h3 class=\"is-sr-only\">Presiden Terima Pansel Pemilihan Calon Anggota Badan Pelaksana dan Dewan Pengawas BPKH</h3>, <h3 class=\"is-sr-only\">Presiden: Mari Jadikan Ramadan Momentum Tingkatkan Iman dan Takwa</h3>, <h3 class=\"is-sr-only\">Presiden Akan Berikan BLT Minyak Goreng</h3>, <h3 class=\"is-sr-only\">Presiden Jokowi Sambut Kunjungan Kerja PM Malaysia di Istana Merdeka</h3>, <h3 class=\"is-sr-only\">Presiden Jokowi Sambut Kunjungan Resmi PM Papua Nugini di Istana Bogor</h3>]\n"
     ]
    }
   ],
   "source": [
    "print(titles)"
   ]
  },
  {
   "cell_type": "code",
   "execution_count": 18,
   "metadata": {},
   "outputs": [],
   "source": [
    "list_title = [title.get_text().rstrip() for title in titles]"
   ]
  },
  {
   "cell_type": "code",
   "execution_count": 19,
   "metadata": {},
   "outputs": [
    {
     "name": "stdout",
     "output_type": "stream",
     "text": [
      "['Presiden Terima Pansel Pemilihan Calon Anggota Badan Pelaksana dan Dewan Pengawas BPKH', 'Presiden: Mari Jadikan Ramadan Momentum Tingkatkan Iman dan Takwa', 'Presiden Akan Berikan BLT Minyak Goreng', 'Presiden Jokowi Sambut Kunjungan Kerja PM Malaysia di Istana Merdeka', 'Presiden Jokowi Sambut Kunjungan Resmi PM Papua Nugini di Istana Bogor']\n"
     ]
    }
   ],
   "source": [
    "print(list_title)"
   ]
  },
  {
   "cell_type": "code",
   "execution_count": 20,
   "metadata": {},
   "outputs": [
    {
     "name": "stdout",
     "output_type": "stream",
     "text": [
      "Koneksi Berhasil\n",
      "\n",
      "                INSERT INTO ARTIKEL (title)\n",
      "                VALUES (\"Presiden Terima Pansel Pemilihan Calon Anggota Badan Pelaksana dan Dewan Pengawas BPKH\")\n",
      "                \n",
      "\n",
      "                INSERT INTO ARTIKEL (title)\n",
      "                VALUES (\"Presiden: Mari Jadikan Ramadan Momentum Tingkatkan Iman dan Takwa\")\n",
      "                \n",
      "\n",
      "                INSERT INTO ARTIKEL (title)\n",
      "                VALUES (\"Presiden Akan Berikan BLT Minyak Goreng\")\n",
      "                \n",
      "\n",
      "                INSERT INTO ARTIKEL (title)\n",
      "                VALUES (\"Presiden Jokowi Sambut Kunjungan Kerja PM Malaysia di Istana Merdeka\")\n",
      "                \n",
      "\n",
      "                INSERT INTO ARTIKEL (title)\n",
      "                VALUES (\"Presiden Jokowi Sambut Kunjungan Resmi PM Papua Nugini di Istana Bogor\")\n",
      "                \n",
      "Penambahan Data Berhasil\n"
     ]
    }
   ],
   "source": [
    "#menyimpan dalam sql\n",
    "db = MySqlDB()\n",
    "db.open_connection()\n",
    "db.insert_titles(list_title)"
   ]
  },
  {
   "cell_type": "code",
   "execution_count": 21,
   "metadata": {},
   "outputs": [
    {
     "name": "stdout",
     "output_type": "stream",
     "text": [
      "(1, 'Kunjungan Kerja Presiden RI ke Provinsi Bali')\n",
      "(2, 'Presiden Jokowi Lanjutkan Kunjungan Kerja ke Kabupaten Belu')\n",
      "(3, 'Dari Kota Kupang, Presiden Jokowi Bertolak Menuju Kabupaten Timor Tengah Selatan')\n",
      "(4, 'Presiden Joko Widodo Resmikan Penataan Kawasan Kota Kupang')\n",
      "(5, 'Bertolak ke NTT, Presiden Akan Tinjau Program Percepatan Penurunan Stunting')\n",
      "(6, 'Rusia: Fase Pertama Operasi Militer di Ukraina Tuntas, Giliran Fokus Bebaskan Donbas')\n",
      "(7, 'Rekap Hasil Swiss Open 2022: 5 Wakil Indonesia ke Semifinal, Potensi 2 Duel Merah Putih di Final')\n",
      "(8, 'Target Penonton Langsung Formula E Menyusut, dari 50.000 Jadi 10.000')\n",
      "(9, 'Potret Sirkuit Formula E di Lokasi Berlumpur Sebelum dan Sesudah Dilakukan Pembangunan')\n",
      "(10, '66 Siswa Jatuh dari Jembatan Saat Menunggu Difoto dengan Drone, Kades: Jika 1 Orang Beratnya 50 Kg, Sudah 3 Ton')\n",
      "(11, 'Link Live Streaming Argentina Vs Venezuela, Kickoff 06.30 WIB')\n",
      "(12, 'Pengumuman! Pendaftaran Sayembara Bangunan IKN Nusantara Dibuka Mulai 28 Maret')\n",
      "(13, 'Kisah Pak Guru Ribut, Jelaskan soal Kaum Sodom ke Murid SD, Videonya Viral dan Dipanggil Dinas')\n",
      "(14, 'Klasemen Liga 1: Bali United Juara, Persebaya ke Zona Piala AFC')\n",
      "(15, 'Warga yang Belum Vaksinasi Booster Masih Boleh Mudik Lebaran, Asalkan…')\n",
      "(16, 'Presiden Jokowi Jenguk Buya Syafii di Sleman')\n",
      "(17, 'Kunjungan Kerja Presiden RI ke Provinsi Bali')\n",
      "(18, 'Presiden Jokowi Lanjutkan Kunjungan Kerja ke Kabupaten Belu')\n",
      "(19, 'Dari Kota Kupang, Presiden Jokowi Bertolak Menuju Kabupaten Timor Tengah Selatan')\n",
      "(20, 'Presiden Joko Widodo Resmikan Penataan Kawasan Kota Kupang')\n",
      "(21, 'Presiden Terima Pansel Pemilihan Calon Anggota Badan Pelaksana dan Dewan Pengawas BPKH')\n",
      "(22, 'Presiden: Mari Jadikan Ramadan Momentum Tingkatkan Iman dan Takwa')\n",
      "(23, 'Presiden Akan Berikan BLT Minyak Goreng')\n",
      "(24, 'Presiden Jokowi Sambut Kunjungan Kerja PM Malaysia di Istana Merdeka')\n",
      "(25, 'Presiden Jokowi Sambut Kunjungan Resmi PM Papua Nugini di Istana Bogor')\n"
     ]
    }
   ],
   "source": [
    "#melihat data\n",
    "db.search_all()"
   ]
  },
  {
   "cell_type": "code",
   "execution_count": 22,
   "metadata": {},
   "outputs": [],
   "source": [
    "#tutup koneksi\n",
    "db.close_connection()"
   ]
  },
  {
   "cell_type": "code",
   "execution_count": 23,
   "metadata": {},
   "outputs": [],
   "source": [
    "df = pd.DataFrame(list_title, columns=['title'])"
   ]
  },
  {
   "cell_type": "code",
   "execution_count": 24,
   "metadata": {},
   "outputs": [
    {
     "data": {
      "text/html": [
       "<div>\n",
       "<style scoped>\n",
       "    .dataframe tbody tr th:only-of-type {\n",
       "        vertical-align: middle;\n",
       "    }\n",
       "\n",
       "    .dataframe tbody tr th {\n",
       "        vertical-align: top;\n",
       "    }\n",
       "\n",
       "    .dataframe thead th {\n",
       "        text-align: right;\n",
       "    }\n",
       "</style>\n",
       "<table border=\"1\" class=\"dataframe\">\n",
       "  <thead>\n",
       "    <tr style=\"text-align: right;\">\n",
       "      <th></th>\n",
       "      <th>title</th>\n",
       "    </tr>\n",
       "  </thead>\n",
       "  <tbody>\n",
       "    <tr>\n",
       "      <th>0</th>\n",
       "      <td>Presiden Terima Pansel Pemilihan Calon Anggota...</td>\n",
       "    </tr>\n",
       "    <tr>\n",
       "      <th>1</th>\n",
       "      <td>Presiden: Mari Jadikan Ramadan Momentum Tingka...</td>\n",
       "    </tr>\n",
       "    <tr>\n",
       "      <th>2</th>\n",
       "      <td>Presiden Akan Berikan BLT Minyak Goreng</td>\n",
       "    </tr>\n",
       "    <tr>\n",
       "      <th>3</th>\n",
       "      <td>Presiden Jokowi Sambut Kunjungan Kerja PM Mala...</td>\n",
       "    </tr>\n",
       "    <tr>\n",
       "      <th>4</th>\n",
       "      <td>Presiden Jokowi Sambut Kunjungan Resmi PM Papu...</td>\n",
       "    </tr>\n",
       "  </tbody>\n",
       "</table>\n",
       "</div>"
      ],
      "text/plain": [
       "                                               title\n",
       "0  Presiden Terima Pansel Pemilihan Calon Anggota...\n",
       "1  Presiden: Mari Jadikan Ramadan Momentum Tingka...\n",
       "2            Presiden Akan Berikan BLT Minyak Goreng\n",
       "3  Presiden Jokowi Sambut Kunjungan Kerja PM Mala...\n",
       "4  Presiden Jokowi Sambut Kunjungan Resmi PM Papu..."
      ]
     },
     "execution_count": 24,
     "metadata": {},
     "output_type": "execute_result"
    }
   ],
   "source": [
    "df"
   ]
  },
  {
   "cell_type": "code",
   "execution_count": 25,
   "metadata": {},
   "outputs": [],
   "source": [
    "df.to_csv(\"scrape_presiden.csv\", index=False)"
   ]
  }
 ],
 "metadata": {
  "interpreter": {
   "hash": "b09faad8010c53ac42204f4e48cb8cd6a05a747dc338ce78a1104621a990696c"
  },
  "kernelspec": {
   "display_name": "Python 3.8.6 ('ms_python')",
   "language": "python",
   "name": "python3"
  },
  "language_info": {
   "codemirror_mode": {
    "name": "ipython",
    "version": 3
   },
   "file_extension": ".py",
   "mimetype": "text/x-python",
   "name": "python",
   "nbconvert_exporter": "python",
   "pygments_lexer": "ipython3",
   "version": "3.9.4"
  },
  "orig_nbformat": 4
 },
 "nbformat": 4,
 "nbformat_minor": 2
}

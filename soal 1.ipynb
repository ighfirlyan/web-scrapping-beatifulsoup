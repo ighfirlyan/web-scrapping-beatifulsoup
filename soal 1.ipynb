{
 "cells": [
  {
   "cell_type": "code",
   "execution_count": 1,
   "metadata": {},
   "outputs": [],
   "source": [
    "from datetime import date\n",
    "from unicodedata import category\n",
    "from unittest import result\n",
    "from bs4 import BeautifulSoup as bs\n",
    "from urllib.request import urlopen, Request\n",
    "import pandas as pd"
   ]
  },
  {
   "cell_type": "code",
   "execution_count": 2,
   "metadata": {},
   "outputs": [],
   "source": [
    "#siapkan semua parameter\n",
    "user_agent = \"Mozilla/5.0 (Windows NT 10.0; Win64; x64) AppleWebKit/537.36 (KHTML, like Gecko) Chrome/99.0.4844.82 Safari/537.36\"\n",
    "headers = {\n",
    "    'User-Agent': user_agent\n",
    "}"
   ]
  },
  {
   "cell_type": "code",
   "execution_count": 3,
   "metadata": {},
   "outputs": [],
   "source": [
    "\n",
    "judul_berita = []\n",
    "\n",
    "# page 1 sampe 5\n",
    "for i in range(1,6):\n",
    "    alamat = \"https://indeks.kompas.com/?site=all&date=2021-12-01&page=\"+str(i)\n",
    "    data_request = Request(alamat, headers=headers)\n",
    "    response = urlopen(data_request)\n",
    "\n",
    "    #masukkan dalam objek beautifulsoup\n",
    "    soup = bs(response, \"html.parser\")\n",
    "    \n",
    "    #div, berita\n",
    "    berita = soup.find(\"div\", {\"class\":\"latest--indeks mt2 clearfix\"})\n",
    "\n",
    "    titles = berita.find_all(\"h3\", {\"class\":\"article__title article__title--medium\"})\n",
    "    # date = berita.find_all(\"div\", {\"class\":\"article__list__info\"})\n",
    "\n",
    "    # list_title = [title.get_text().rstrip() for title in titles]\n",
    "\n",
    "    for title in titles:\n",
    "        list_title = title.get_text().rstrip()\n",
    "        judul_berita.append(list_title)\n",
    "    \n",
    "    # for tanggal in date:\n",
    "    #     list_date = tanggal.get_text().rstrip()\n",
    "    #     tanggal.append(date)\n",
    "\n",
    "# for i in hasil:\n",
    "#     print(i)"
   ]
  },
  {
   "cell_type": "code",
   "execution_count": 4,
   "metadata": {},
   "outputs": [],
   "source": [
    "tanggal = []\n",
    "\n",
    "for i in range(0, len(judul_berita)):\n",
    "    i = '2021-12-01'\n",
    "    tanggal.append(i)"
   ]
  },
  {
   "cell_type": "code",
   "execution_count": 5,
   "metadata": {},
   "outputs": [],
   "source": [
    "result_dict = {'date':tanggal, 'title': judul_berita}"
   ]
  },
  {
   "cell_type": "code",
   "execution_count": 6,
   "metadata": {},
   "outputs": [
    {
     "data": {
      "text/html": [
       "<div>\n",
       "<style scoped>\n",
       "    .dataframe tbody tr th:only-of-type {\n",
       "        vertical-align: middle;\n",
       "    }\n",
       "\n",
       "    .dataframe tbody tr th {\n",
       "        vertical-align: top;\n",
       "    }\n",
       "\n",
       "    .dataframe thead th {\n",
       "        text-align: right;\n",
       "    }\n",
       "</style>\n",
       "<table border=\"1\" class=\"dataframe\">\n",
       "  <thead>\n",
       "    <tr style=\"text-align: right;\">\n",
       "      <th></th>\n",
       "      <th>date</th>\n",
       "      <th>title</th>\n",
       "    </tr>\n",
       "  </thead>\n",
       "  <tbody>\n",
       "    <tr>\n",
       "      <th>0</th>\n",
       "      <td>2021-12-01</td>\n",
       "      <td>Genoa Vs AC Milan, Shevchenko Ingin Buat Manta...</td>\n",
       "    </tr>\n",
       "    <tr>\n",
       "      <th>1</th>\n",
       "      <td>2021-12-01</td>\n",
       "      <td>ODHA di Depok Masih Dapat Stigma Negatif</td>\n",
       "    </tr>\n",
       "    <tr>\n",
       "      <th>2</th>\n",
       "      <td>2021-12-01</td>\n",
       "      <td>Pemprov Jakarta Bentuk Tim Khusus Awasi Alat M...</td>\n",
       "    </tr>\n",
       "    <tr>\n",
       "      <th>3</th>\n",
       "      <td>2021-12-01</td>\n",
       "      <td>Penonton Lokal Piala AFF 2020 Acuhkan 5 Aturan...</td>\n",
       "    </tr>\n",
       "    <tr>\n",
       "      <th>4</th>\n",
       "      <td>2021-12-01</td>\n",
       "      <td>Pada Akhir Pekan, Penumpang di Bandara Soekarn...</td>\n",
       "    </tr>\n",
       "    <tr>\n",
       "      <th>...</th>\n",
       "      <td>...</td>\n",
       "      <td>...</td>\n",
       "    </tr>\n",
       "    <tr>\n",
       "      <th>195</th>\n",
       "      <td>2021-12-01</td>\n",
       "      <td>Pemerintah Bakal Kembali Terbitkan SKB 4 Mente...</td>\n",
       "    </tr>\n",
       "    <tr>\n",
       "      <th>196</th>\n",
       "      <td>2021-12-01</td>\n",
       "      <td>Densus 88 Sita Senapan M16 dan 124 Peluru dari...</td>\n",
       "    </tr>\n",
       "    <tr>\n",
       "      <th>197</th>\n",
       "      <td>2021-12-01</td>\n",
       "      <td>Foto Viral Pasutri Naik Motor hingga Menara Ei...</td>\n",
       "    </tr>\n",
       "    <tr>\n",
       "      <th>198</th>\n",
       "      <td>2021-12-01</td>\n",
       "      <td>Momen Indro Satukan Lagi Warkop DKI Setelah Ka...</td>\n",
       "    </tr>\n",
       "    <tr>\n",
       "      <th>199</th>\n",
       "      <td>2021-12-01</td>\n",
       "      <td>Pil Covid Molnupiravir MSD Akhirnya Kantongi I...</td>\n",
       "    </tr>\n",
       "  </tbody>\n",
       "</table>\n",
       "<p>200 rows × 2 columns</p>\n",
       "</div>"
      ],
      "text/plain": [
       "           date                                              title\n",
       "0    2021-12-01  Genoa Vs AC Milan, Shevchenko Ingin Buat Manta...\n",
       "1    2021-12-01           ODHA di Depok Masih Dapat Stigma Negatif\n",
       "2    2021-12-01  Pemprov Jakarta Bentuk Tim Khusus Awasi Alat M...\n",
       "3    2021-12-01  Penonton Lokal Piala AFF 2020 Acuhkan 5 Aturan...\n",
       "4    2021-12-01  Pada Akhir Pekan, Penumpang di Bandara Soekarn...\n",
       "..          ...                                                ...\n",
       "195  2021-12-01  Pemerintah Bakal Kembali Terbitkan SKB 4 Mente...\n",
       "196  2021-12-01  Densus 88 Sita Senapan M16 dan 124 Peluru dari...\n",
       "197  2021-12-01  Foto Viral Pasutri Naik Motor hingga Menara Ei...\n",
       "198  2021-12-01  Momen Indro Satukan Lagi Warkop DKI Setelah Ka...\n",
       "199  2021-12-01  Pil Covid Molnupiravir MSD Akhirnya Kantongi I...\n",
       "\n",
       "[200 rows x 2 columns]"
      ]
     },
     "execution_count": 6,
     "metadata": {},
     "output_type": "execute_result"
    }
   ],
   "source": [
    "df = pd.DataFrame(result_dict, columns=['date','title'])\n",
    "df"
   ]
  },
  {
   "cell_type": "code",
   "execution_count": 7,
   "metadata": {},
   "outputs": [],
   "source": [
    "df.to_csv('kompas_20211201.csv')"
   ]
  }
 ],
 "metadata": {
  "interpreter": {
   "hash": "3454bc21589f5bc48f743d0fde9bff51384294738c6356029fae86a372931a9f"
  },
  "kernelspec": {
   "display_name": "Python 3.9.4 64-bit",
   "language": "python",
   "name": "python3"
  },
  "language_info": {
   "codemirror_mode": {
    "name": "ipython",
    "version": 3
   },
   "file_extension": ".py",
   "mimetype": "text/x-python",
   "name": "python",
   "nbconvert_exporter": "python",
   "pygments_lexer": "ipython3",
   "version": "3.9.4"
  },
  "orig_nbformat": 4
 },
 "nbformat": 4,
 "nbformat_minor": 2
}

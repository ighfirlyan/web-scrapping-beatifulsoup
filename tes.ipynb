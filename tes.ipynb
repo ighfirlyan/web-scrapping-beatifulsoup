{
 "cells": [
  {
   "cell_type": "code",
   "execution_count": 10,
   "metadata": {},
   "outputs": [
    {
     "name": "stdout",
     "output_type": "stream",
     "text": [
      "https://indeks.kompas.com/?site=all&date=2021-12-01&page=1\n",
      "https://indeks.kompas.com/?site=all&date=2021-12-01&page=2\n",
      "https://indeks.kompas.com/?site=all&date=2021-12-01&page=3\n",
      "https://indeks.kompas.com/?site=all&date=2021-12-01&page=4\n",
      "https://indeks.kompas.com/?site=all&date=2021-12-01&page=5\n"
     ]
    }
   ],
   "source": [
    "from datetime import date\n",
    "from unicodedata import category\n",
    "from unittest import result\n",
    "from bs4 import BeautifulSoup as bs\n",
    "from urllib.request import urlopen, Request\n",
    "import pandas as pd"
   ]
  }
 ],
 "metadata": {
  "interpreter": {
   "hash": "3454bc21589f5bc48f743d0fde9bff51384294738c6356029fae86a372931a9f"
  },
  "kernelspec": {
   "display_name": "Python 3.9.4 64-bit",
   "language": "python",
   "name": "python3"
  },
  "language_info": {
   "codemirror_mode": {
    "name": "ipython",
    "version": 3
   },
   "file_extension": ".py",
   "mimetype": "text/x-python",
   "name": "python",
   "nbconvert_exporter": "python",
   "pygments_lexer": "ipython3",
   "version": "3.9.4"
  },
  "orig_nbformat": 4
 },
 "nbformat": 4,
 "nbformat_minor": 2
}
